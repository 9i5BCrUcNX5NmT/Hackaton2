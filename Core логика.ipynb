{
 "cells": [
  {
   "cell_type": "markdown",
   "id": "089a98ff",
   "metadata": {},
   "source": [
    "---------------------------------------------------------------------------------------------------------------------------------------------------------------------------------------------------------------------------------------------------"
   ]
  },
  {
   "cell_type": "code",
   "execution_count": 5,
   "id": "9f73196d",
   "metadata": {},
   "outputs": [],
   "source": [
    "from llama_index.core import SimpleDirectoryReader, Settings, StorageContext, VectorStoreIndex\n",
    "from llama_index.core.node_parser import SemanticSplitterNodeParser\n",
    "from llama_index.embeddings.ollama import OllamaEmbedding\n",
    "from llama_index.llms.ollama import Ollama\n",
    "from llama_index.vector_stores.qdrant import QdrantVectorStore\n",
    "import qdrant_client"
   ]
  },
  {
   "cell_type": "code",
   "execution_count": 18,
   "id": "f560a186",
   "metadata": {},
   "outputs": [],
   "source": [
    "documents = SimpleDirectoryReader(\"data\", recursive=True).load_data()\n",
    "\n",
    "base_url = \"http://127.0.0.1:11434\"\n",
    "Settings.embed_model = OllamaEmbedding(\n",
    "    base_url=base_url,\n",
    "    model_name=\"nomic-embed-text\",\n",
    ")\n",
    "\n",
    "# ollama\n",
    "Settings.llm = Ollama(model=\"llama3\", request_timeout=360.0)"
   ]
  },
  {
   "cell_type": "markdown",
   "id": "c40d82f0",
   "metadata": {},
   "source": [
    "```powershell\n",
    "docker run -p 6333:6333 -p 6334:6334 `\n",
    "     -v ${pwd}\\qdrant_storage:/qdrant/storage:z `\n",
    "     qdrant/qdrant\n",
    "```"
   ]
  },
  {
   "cell_type": "code",
   "execution_count": 19,
   "id": "f9fb813f",
   "metadata": {},
   "outputs": [],
   "source": [
    "splitter = SemanticSplitterNodeParser(embed_model = Settings.embed_model)\n",
    "\n",
    "nodes = splitter.get_nodes_from_documents(documents)"
   ]
  },
  {
   "cell_type": "code",
   "execution_count": 22,
   "id": "adeada1a",
   "metadata": {},
   "outputs": [],
   "source": [
    "client = qdrant_client.QdrantClient(url=\"http://localhost:6333\")\n",
    "vector_store = QdrantVectorStore(client=client, collection_name=\"my_collection\")\n",
    "storage_context = StorageContext.from_defaults(vector_store=vector_store)\n",
    "index = VectorStoreIndex(nodes=nodes, storage_context=storage_context)\n",
    "query_engine = index.as_query_engine()"
   ]
  },
  {
   "cell_type": "code",
   "execution_count": 23,
   "id": "02b25cf3",
   "metadata": {},
   "outputs": [],
   "source": [
    "answer = \"Какие есть региональне меры поддержки москвы и какие их остновные пункты? В виде полного их списка:\"\n",
    "plus_context = f\"Отвечай на русском: {answer}\"\n",
    "response = query_engine.query(plus_context)"
   ]
  },
  {
   "cell_type": "code",
   "execution_count": 24,
   "id": "9a1dbdb7",
   "metadata": {},
   "outputs": [
    {
     "name": "stdout",
     "output_type": "stream",
     "text": [
      "Московские региональные меры поддержки направлены на создание благоприятной среды для реализации проектов, стимулирование научных исследований и развитие инфраструктуры. Среди них есть меры, направленные на представление интересов заявителей юридических лиц и физических лиц, зарегистрированных в качестве индивидуальных предпринимателей. \n",
      "\n",
      "Основными пунктами этих мер являются:\n",
      "\n",
      "1. Подача заявки в электронной форме;\n",
      "2. Проверка комплектности и рассмотрение заявки;\n",
      "3. Направление решения по итогам рассмотрения заявки;\n",
      "\n",
      "Также в Москве реализуются меры, направленные на представление интересов индивидуальных предпринимателей при подаче запроса на предоставление государственной услуги, включая подачу документов, подтверждающих полномочие представителя действовать от имени заявителя. \n",
      "\n",
      "Общий срок оказания услуги - до 15 рабочих дней.\n",
      "\n",
      "Кроме того, в Москве реализуются меры, направленные на создание благоприятной среды для индивидуальных предпринимателей, включая предоставление выписок из Единого государственного реестра юридических лиц, индивидуальных предпринимателей и недвижимости. \n",
      "\n",
      "В целом, московские региональные меры поддержки направлены на создание благоприятной среды для реализации проектов, стимулирование научных исследований и развитие инфраструктуры.\n"
     ]
    }
   ],
   "source": [
    "for i in str(response).split(\"\\n\"):\n",
    "    print(i)"
   ]
  },
  {
   "cell_type": "markdown",
   "id": "6f0ac0e0",
   "metadata": {},
   "source": [
    "---------------------------------------------------------------------------------------------------------------------------------------------------------------------------------------------------------------------------------------------------"
   ]
  }
 ],
 "metadata": {
  "kernelspec": {
   "display_name": "Python 3 (ipykernel)",
   "language": "python",
   "name": "python3"
  },
  "language_info": {
   "codemirror_mode": {
    "name": "ipython",
    "version": 3
   },
   "file_extension": ".py",
   "mimetype": "text/x-python",
   "name": "python",
   "nbconvert_exporter": "python",
   "pygments_lexer": "ipython3",
   "version": "3.12.4"
  }
 },
 "nbformat": 4,
 "nbformat_minor": 5
}
